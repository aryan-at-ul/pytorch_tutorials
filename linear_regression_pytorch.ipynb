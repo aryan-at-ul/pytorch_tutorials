{
  "nbformat": 4,
  "nbformat_minor": 0,
  "metadata": {
    "colab": {
      "provenance": [],
      "authorship_tag": "ABX9TyOS0+5hd1eRHhYmnsZVweu6",
      "include_colab_link": true
    },
    "kernelspec": {
      "name": "python3",
      "display_name": "Python 3"
    },
    "language_info": {
      "name": "python"
    }
  },
  "cells": [
    {
      "cell_type": "markdown",
      "metadata": {
        "id": "view-in-github",
        "colab_type": "text"
      },
      "source": [
        "<a href=\"https://colab.research.google.com/github/aryan-at-ul/pytorch_tutorials/blob/main/linear_regression_pytorch.ipynb\" target=\"_parent\"><img src=\"https://colab.research.google.com/assets/colab-badge.svg\" alt=\"Open In Colab\"/></a>"
      ]
    },
    {
      "cell_type": "code",
      "execution_count": 1,
      "metadata": {
        "id": "TJ66NvUJi5XO"
      },
      "outputs": [],
      "source": [
        "import torch\n",
        "import torch.nn as nn\n",
        "import matplotlib.pyplot as plt \n",
        "import numpy as np "
      ]
    },
    {
      "cell_type": "code",
      "source": [
        "X = torch.randn(100,1) * 10 \n",
        "y = X + 3 * torch.randn(100,1)\n",
        "plt.plot(X.numpy(),y.numpy(),'o')\n",
        "plt.xlabel(\"x\")\n",
        "plt.ylabel(\"y\")"
      ],
      "metadata": {
        "colab": {
          "base_uri": "https://localhost:8080/",
          "height": 297
        },
        "id": "OzIUbOE5jOrO",
        "outputId": "b96e660d-9cf7-419c-92ff-49b8d476f5ce"
      },
      "execution_count": 2,
      "outputs": [
        {
          "output_type": "execute_result",
          "data": {
            "text/plain": [
              "Text(0, 0.5, 'y')"
            ]
          },
          "metadata": {},
          "execution_count": 2
        },
        {
          "output_type": "display_data",
          "data": {
            "text/plain": [
              "<Figure size 432x288 with 1 Axes>"
            ],
            "image/png": "[encoded data removed]"
          },
          "metadata": {
            "needs_background": "light"
          }
        }
      ]
    },
    {
      "cell_type": "code",
      "source": [
        "class LR(nn.Module):\n",
        "\n",
        "    def __init__(self, inputsize, outputsize):\n",
        "        super().__init__()\n",
        "        self.linear = nn.Linear(inputsize, outputsize)\n",
        "\n",
        "    def forward(self,x):\n",
        "        pred = self.linear(x)\n",
        "        return pred\n",
        "\n"
      ],
      "metadata": {
        "id": "H3M2-sPLkCYT"
      },
      "execution_count": 3,
      "outputs": []
    },
    {
      "cell_type": "code",
      "source": [
        "torch.manual_seed(1)\n",
        "model = LR(1,1)\n",
        "print(model)"
      ],
      "metadata": {
        "colab": {
          "base_uri": "https://localhost:8080/"
        },
        "id": "sxIJ5PoHrQtQ",
        "outputId": "ac92d812-29c5-4ac5-d6ab-43d77173cb23"
      },
      "execution_count": 4,
      "outputs": [
        {
          "output_type": "stream",
          "name": "stdout",
          "text": [
            "LR(\n",
            "  (linear): Linear(in_features=1, out_features=1, bias=True)\n",
            ")\n"
          ]
        }
      ]
    },
    {
      "cell_type": "code",
      "source": [
        "[w,b] = model.parameters()\n",
        "\n",
        "def get_params():\n",
        "    return (w[0][0].item(),b[0].item())\n",
        "\n",
        "\n",
        "def plot_fit(title = ''):\n",
        "    plt.title = \"\"\n",
        "    w,b = get_params()\n",
        "    x1 = np.array([-30, 30])\n",
        "    y1 = w * x1 + b\n",
        "    plt.plot(x1,y1,'r')\n",
        "    plt.scatter(X,y)\n",
        "    plt.show()\n",
        "\n",
        "plot_fit('initial fit')"
      ],
      "metadata": {
        "colab": {
          "base_uri": "https://localhost:8080/",
          "height": 265
        },
        "id": "RlekclWJrgQg",
        "outputId": "120a4dd1-3286-4bd9-b54b-7f853296b2a6"
      },
      "execution_count": 5,
      "outputs": [
        {
          "output_type": "display_data",
          "data": {
            "text/plain": [
              "<Figure size 432x288 with 1 Axes>"
            ],
            "image/png": "[encoded data removed]"
          },
          "metadata": {
            "needs_background": "light"
          }
        }
      ]
    },
    {
      "cell_type": "code",
      "source": [
        "criterion = nn.MSELoss()\n",
        "optimizer = torch.optim.SGD(model.parameters(), lr = 0.01)\n",
        "\n",
        "epoches = 100\n",
        "losses = []\n",
        "for i in range(epoches):\n",
        "    y_pred = model.forward(X)\n",
        "    loss = criterion(y_pred,y)\n",
        "    print(f\"for iteration {i} loss was {loss}\")\n",
        "    losses.append(loss.item())\n",
        "    optimizer.zero_grad()\n",
        "    loss.backward()\n",
        "    optimizer.step()\n",
        "\n"
      ],
      "metadata": {
        "colab": {
          "base_uri": "https://localhost:8080/"
        },
        "id": "O_9MkENHsy2J",
        "outputId": "56fb20da-e6b0-4b05-a6eb-f109281dbce7"
      },
      "execution_count": 9,
      "outputs": [
        {
          "output_type": "stream",
          "name": "stdout",
          "text": [
            "for iteration 0 loss was 9.658647537231445\n",
            "for iteration 1 loss was 9.658520698547363\n",
            "for iteration 2 loss was 9.658395767211914\n",
            "for iteration 3 loss was 9.658278465270996\n",
            "for iteration 4 loss was 9.658164978027344\n",
            "for iteration 5 loss was 9.658056259155273\n",
            "for iteration 6 loss was 9.657950401306152\n",
            "for iteration 7 loss was 9.657849311828613\n",
            "for iteration 8 loss was 9.657752990722656\n",
            "for iteration 9 loss was 9.657659530639648\n",
            "for iteration 10 loss was 9.657569885253906\n",
            "for iteration 11 loss was 9.657483100891113\n",
            "for iteration 12 loss was 9.657400131225586\n",
            "for iteration 13 loss was 9.657320976257324\n",
            "for iteration 14 loss was 9.657244682312012\n",
            "for iteration 15 loss was 9.657171249389648\n",
            "for iteration 16 loss was 9.657100677490234\n",
            "for iteration 17 loss was 9.657032012939453\n",
            "for iteration 18 loss was 9.656966209411621\n",
            "for iteration 19 loss was 9.656903266906738\n",
            "for iteration 20 loss was 9.656843185424805\n",
            "for iteration 21 loss was 9.656785011291504\n",
            "for iteration 22 loss was 9.656730651855469\n",
            "for iteration 23 loss was 9.6566743850708\n",
            "for iteration 24 loss was 9.656624794006348\n",
            "for iteration 25 loss was 9.656576156616211\n",
            "for iteration 26 loss was 9.656526565551758\n",
            "for iteration 27 loss was 9.656481742858887\n",
            "for iteration 28 loss was 9.656436920166016\n",
            "for iteration 29 loss was 9.656394958496094\n",
            "for iteration 30 loss was 9.656353950500488\n",
            "for iteration 31 loss was 9.656314849853516\n",
            "for iteration 32 loss was 9.65627670288086\n",
            "for iteration 33 loss was 9.656241416931152\n",
            "for iteration 34 loss was 9.656207084655762\n",
            "for iteration 35 loss was 9.656174659729004\n",
            "for iteration 36 loss was 9.65614128112793\n",
            "for iteration 37 loss was 9.656109809875488\n",
            "for iteration 38 loss was 9.656079292297363\n",
            "for iteration 39 loss was 9.656052589416504\n",
            "for iteration 40 loss was 9.656024932861328\n",
            "for iteration 41 loss was 9.655999183654785\n",
            "for iteration 42 loss was 9.655974388122559\n",
            "for iteration 43 loss was 9.655948638916016\n",
            "for iteration 44 loss was 9.655925750732422\n",
            "for iteration 45 loss was 9.655902862548828\n",
            "for iteration 46 loss was 9.655881881713867\n",
            "for iteration 47 loss was 9.655860900878906\n",
            "for iteration 48 loss was 9.655840873718262\n",
            "for iteration 49 loss was 9.655821800231934\n",
            "for iteration 50 loss was 9.655803680419922\n",
            "for iteration 51 loss was 9.655786514282227\n",
            "for iteration 52 loss was 9.655770301818848\n",
            "for iteration 53 loss was 9.655753135681152\n",
            "for iteration 54 loss was 9.655735969543457\n",
            "for iteration 55 loss was 9.655721664428711\n",
            "for iteration 56 loss was 9.655706405639648\n",
            "for iteration 57 loss was 9.655693054199219\n",
            "for iteration 58 loss was 9.655680656433105\n",
            "for iteration 59 loss was 9.65566635131836\n",
            "for iteration 60 loss was 9.655654907226562\n",
            "for iteration 61 loss was 9.655641555786133\n",
            "for iteration 62 loss was 9.655630111694336\n",
            "for iteration 63 loss was 9.655619621276855\n",
            "for iteration 64 loss was 9.655609130859375\n",
            "for iteration 65 loss was 9.655598640441895\n",
            "for iteration 66 loss was 9.65558910369873\n",
            "for iteration 67 loss was 9.655579566955566\n",
            "for iteration 68 loss was 9.655570983886719\n",
            "for iteration 69 loss was 9.655561447143555\n",
            "for iteration 70 loss was 9.655553817749023\n",
            "for iteration 71 loss was 9.655546188354492\n",
            "for iteration 72 loss was 9.655537605285645\n",
            "for iteration 73 loss was 9.655529975891113\n",
            "for iteration 74 loss was 9.655523300170898\n",
            "for iteration 75 loss was 9.655515670776367\n",
            "for iteration 76 loss was 9.655509948730469\n",
            "for iteration 77 loss was 9.655503273010254\n",
            "for iteration 78 loss was 9.655496597290039\n",
            "for iteration 79 loss was 9.655491828918457\n",
            "for iteration 80 loss was 9.655486106872559\n",
            "for iteration 81 loss was 9.65548038482666\n",
            "for iteration 82 loss was 9.655474662780762\n",
            "for iteration 83 loss was 9.655468940734863\n",
            "for iteration 84 loss was 9.655466079711914\n",
            "for iteration 85 loss was 9.655460357666016\n",
            "for iteration 86 loss was 9.655457496643066\n",
            "for iteration 87 loss was 9.655451774597168\n",
            "for iteration 88 loss was 9.655448913574219\n",
            "for iteration 89 loss was 9.655444145202637\n",
            "for iteration 90 loss was 9.655440330505371\n",
            "for iteration 91 loss was 9.655436515808105\n",
            "for iteration 92 loss was 9.655433654785156\n",
            "for iteration 93 loss was 9.65542984008789\n",
            "for iteration 94 loss was 9.655426025390625\n",
            "for iteration 95 loss was 9.655423164367676\n",
            "for iteration 96 loss was 9.655421257019043\n",
            "for iteration 97 loss was 9.655417442321777\n",
            "for iteration 98 loss was 9.655414581298828\n",
            "for iteration 99 loss was 9.655411720275879\n"
          ]
        }
      ]
    },
    {
      "cell_type": "code",
      "source": [
        "plt.plot(range(epoches),losses)"
      ],
      "metadata": {
        "colab": {
          "base_uri": "https://localhost:8080/",
          "height": 283
        },
        "id": "Cxo4m3x2txAj",
        "outputId": "b6643a24-288e-491a-c8c6-5779240994cb"
      },
      "execution_count": 10,
      "outputs": [
        {
          "output_type": "execute_result",
          "data": {
            "text/plain": [
              "[<matplotlib.lines.Line2D at 0x7f014f0a2d90>]"
            ]
          },
          "metadata": {},
          "execution_count": 10
        },
        {
          "output_type": "display_data",
          "data": {
            "text/plain": [
              "<Figure size 432x288 with 1 Axes>"
            ],
            "image/png": "[encoded data removed]"
          },
          "metadata": {
            "needs_background": "light"
          }
        }
      ]
    },
    {
      "cell_type": "code",
      "source": [
        "plot_fit(\"lr model\")"
      ],
      "metadata": {
        "colab": {
          "base_uri": "https://localhost:8080/",
          "height": 265
        },
        "id": "GOUl2RCUuHfR",
        "outputId": "6e7d8a4e-035d-47d5-bed4-7573420233d9"
      },
      "execution_count": 11,
      "outputs": [
        {
          "output_type": "display_data",
          "data": {
            "text/plain": [
              "<Figure size 432x288 with 1 Axes>"
            ],
            "image/png": "[encoded data removed]"
          },
          "metadata": {
            "needs_background": "light"
          }
        }
      ]
    }
  ]
}