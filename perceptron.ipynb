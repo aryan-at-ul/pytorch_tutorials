{
  "nbformat": 4,
  "nbformat_minor": 0,
  "metadata": {
    "colab": {
      "provenance": [],
      "authorship_tag": "ABX9TyMa3vM4FaqplKqzctaWFWRE",
      "include_colab_link": true
    },
    "kernelspec": {
      "name": "python3",
      "display_name": "Python 3"
    },
    "language_info": {
      "name": "python"
    }
  },
  "cells": [
    {
      "cell_type": "markdown",
      "metadata": {
        "id": "view-in-github",
        "colab_type": "text"
      },
      "source": [
        "<a href=\"https://colab.research.google.com/github/aryan-at-ul/pytorch_tutorials/blob/main/perceptron.ipynb\" target=\"_parent\"><img src=\"https://colab.research.google.com/assets/colab-badge.svg\" alt=\"Open In Colab\"/></a>"
      ]
    },
    {
      "cell_type": "code",
      "execution_count": 2,
      "metadata": {
        "id": "_5_urnbo7pIL"
      },
      "outputs": [],
      "source": [
        "import torch\n",
        "import torch.nn as nn\n",
        "import matplotlib.pyplot as plt \n",
        "import numpy as np \n",
        "from sklearn import datasets"
      ]
    },
    {
      "cell_type": "code",
      "source": [
        "n_points = 100 \n",
        "centres = [[-0.5,0.5],[0.5,-0.5]]\n",
        "X, y = datasets.make_blobs(n_samples = n_points, random_state = 123, centers = centres, cluster_std = 0.5)"
      ],
      "metadata": {
        "id": "9qnqRkaX8FnA"
      },
      "execution_count": 7,
      "outputs": []
    },
    {
      "cell_type": "code",
      "source": [
        "plt.scatter(X[y==0,0],X[y==0,1])\n",
        "plt.scatter(X[y==1,0],X[y==1,1])"
      ],
      "metadata": {
        "colab": {
          "base_uri": "https://localhost:8080/",
          "height": 283
        },
        "id": "Izor22__8rp6",
        "outputId": "71c3a511-4552-4d0a-eb20-b594b95eae0f"
      },
      "execution_count": 9,
      "outputs": [
        {
          "output_type": "execute_result",
          "data": {
            "text/plain": [
              "<matplotlib.collections.PathCollection at 0x7f1d62b6ad10>"
            ]
          },
          "metadata": {},
          "execution_count": 9
        },
        {
          "output_type": "display_data",
          "data": {
            "text/plain": [
              "<Figure size 432x288 with 1 Axes>"
            ],
            "image/png": "[encoded data removed]"
          },
          "metadata": {
            "needs_background": "light"
          }
        }
      ]
    },
    {
      "cell_type": "code",
      "source": [
        "class LC(nn.Module):\n",
        "    def __init__(self,inputsize, outputsize):\n",
        "        super().__init__()\n",
        "        self.linear = nn.Linear(inputsize,outputsize)\n",
        "\n",
        "    def forward(self,x):\n",
        "        pred = torch.sigmoid(self.linear(x))\n",
        "        return pred\n",
        "\n",
        "    def prediction(self,x):\n",
        "        pred = torch.sigmoid(self.linear(x))\n",
        "\n",
        "        if pred > 0.5:\n",
        "            return 1\n",
        "        else:\n",
        "            return 0    "
      ],
      "metadata": {
        "id": "me3m_05F921Y"
      },
      "execution_count": 15,
      "outputs": []
    },
    {
      "cell_type": "code",
      "source": [
        "torch.manual_seed(2)\n",
        "model = LC(2,1)\n",
        "print(list(model.parameters()))"
      ],
      "metadata": {
        "colab": {
          "base_uri": "https://localhost:8080/"
        },
        "id": "TcjwORvyBjbA",
        "outputId": "4ebb5359-2f93-4f28-b8df-a00f0ce74d5e"
      },
      "execution_count": 18,
      "outputs": [
        {
          "output_type": "stream",
          "name": "stdout",
          "text": [
            "[Parameter containing:\n",
            "tensor([[ 0.1622, -0.1683]], requires_grad=True), Parameter containing:\n",
            "tensor([0.1939], requires_grad=True)]\n"
          ]
        }
      ]
    },
    {
      "cell_type": "code",
      "source": [
        "x_data = torch.Tensor(X)\n",
        "y_data = torch.Tensor(y).reshape(100,1)"
      ],
      "metadata": {
        "id": "n9eG_9cKCVcA"
      },
      "execution_count": 27,
      "outputs": []
    },
    {
      "cell_type": "code",
      "source": [
        "[w,b] = model.parameters()\n",
        "w1,w2 = w.view(2)\n",
        "b1 = b[0]\n",
        "\n",
        "def get_params():\n",
        "    return (w1.item(),w2.item(),b1.item())"
      ],
      "metadata": {
        "id": "MHJYW3V3Ck5l"
      },
      "execution_count": 21,
      "outputs": []
    },
    {
      "cell_type": "code",
      "source": [
        "epochs = 1000\n",
        "losses = []\n",
        "\n",
        "criterion = nn.BCELoss()\n",
        "optimizer = torch.optim.SGD(model.parameters(), lr = 0.01)"
      ],
      "metadata": {
        "id": "qXLksY8MC9Sx"
      },
      "execution_count": 22,
      "outputs": []
    },
    {
      "cell_type": "code",
      "source": [
        "def plot_fit(title = ''):\n",
        "    plt.title = title \n",
        "    w1,w2,b1 = get_params()\n",
        "    x1 = np.array([-2,2])\n",
        "    #r = w1.x2 + w2.x2 + b \n",
        "    x2 =  ( w1*x1 + b1 )/ -w2\n",
        "    plt.plot(x1,x2,'r')\n",
        "    plt.scatter(X[y==0,0],X[y==0,1])\n",
        "    plt.scatter(X[y==1,0],X[y==1,1])\n",
        "\n",
        "\n",
        "plot_fit()"
      ],
      "metadata": {
        "colab": {
          "base_uri": "https://localhost:8080/",
          "height": 265
        },
        "id": "zLppinDADXaH",
        "outputId": "f3915e77-19e5-4bfa-a087-ac7f84eda00f"
      },
      "execution_count": 24,
      "outputs": [
        {
          "output_type": "display_data",
          "data": {
            "text/plain": [
              "<Figure size 432x288 with 1 Axes>"
            ],
            "image/png": "[encoded data removed]"
          },
          "metadata": {
            "needs_background": "light"
          }
        }
      ]
    },
    {
      "cell_type": "code",
      "source": [
        "for i in range(epochs):\n",
        "    pred = model.forward(x_data)\n",
        "    loss = criterion(pred,y_data)\n",
        "    print(f\"for epoch {i} loss was {loss.item()}\")\n",
        "    losses.append(loss.item())\n",
        "    optimizer.zero_grad()\n",
        "    loss.backward()\n",
        "    optimizer.step()\n"
      ],
      "metadata": {
        "id": "-Qq442GIEmFH"
      },
      "execution_count": null,
      "outputs": []
    },
    {
      "cell_type": "code",
      "source": [
        "plot_fit()"
      ],
      "metadata": {
        "colab": {
          "base_uri": "https://localhost:8080/",
          "height": 265
        },
        "id": "9unN_O1iFm5_",
        "outputId": "f80b5f9d-0415-491d-ae9a-dece9120ae3f"
      },
      "execution_count": 30,
      "outputs": [
        {
          "output_type": "display_data",
          "data": {
            "text/plain": [
              "<Figure size 432x288 with 1 Axes>"
            ],
            "image/png": "[encoded data removed]"
          },
          "metadata": {
            "needs_background": "light"
          }
        }
      ]
    },
    {
      "cell_type": "code",
      "source": [
        "plt.plot(range(1000),losses[0:1000])"
      ],
      "metadata": {
        "colab": {
          "base_uri": "https://localhost:8080/",
          "height": 283
        },
        "id": "0JC08p5XJ4di",
        "outputId": "fedf4a6b-65db-4806-aed3-f4f1fe6d1083"
      },
      "execution_count": 41,
      "outputs": [
        {
          "output_type": "execute_result",
          "data": {
            "text/plain": [
              "[<matplotlib.lines.Line2D at 0x7f1d61fed4d0>]"
            ]
          },
          "metadata": {},
          "execution_count": 41
        },
        {
          "output_type": "display_data",
          "data": {
            "text/plain": [
              "<Figure size 432x288 with 1 Axes>"
            ],
            "image/png": "[encoded data removed]"
          },
          "metadata": {
            "needs_background": "light"
          }
        }
      ]
    }
  ]
}