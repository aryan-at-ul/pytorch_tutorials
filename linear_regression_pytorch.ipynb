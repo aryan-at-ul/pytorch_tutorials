{
  "nbformat": 4,
  "nbformat_minor": 0,
  "metadata": {
    "colab": {
      "provenance": [],
      "authorship_tag": "ABX9TyPy/WlkGhI9mKBcVQ2+b1p4",
      "include_colab_link": true
    },
    "kernelspec": {
      "name": "python3",
      "display_name": "Python 3"
    },
    "language_info": {
      "name": "python"
    }
  },
  "cells": [
    {
      "cell_type": "markdown",
      "metadata": {
        "id": "view-in-github",
        "colab_type": "text"
      },
      "source": [
        "<a href=\"https://colab.research.google.com/github/aryan-at-ul/pytorch_tutorials/blob/main/linear_regression_pytorch.ipynb\" target=\"_parent\"><img src=\"https://colab.research.google.com/assets/colab-badge.svg\" alt=\"Open In Colab\"/></a>"
      ]
    },
    {
      "cell_type": "code",
      "execution_count": 1,
      "metadata": {
        "id": "TJ66NvUJi5XO"
      },
      "outputs": [],
      "source": [
        "import torch\n",
        "import torch.nn as nn\n",
        "import matplotlib.pyplot as plt \n",
        "import numpy as np "
      ]
    },
    {
      "cell_type": "code",
      "source": [
        "X = torch.randn(100,1) * 10 \n",
        "y = X + 3 * torch.randn(100,1)\n",
        "plt.plot(X.numpy(),y.numpy(),'o')\n",
        "plt.xlabel(\"x\")\n",
        "plt.ylabel(\"y\")"
      ],
      "metadata": {
        "colab": {
          "base_uri": "https://localhost:8080/",
          "height": 297
        },
        "id": "OzIUbOE5jOrO",
        "outputId": "c52afc6f-ddc6-4bda-942e-86e0dd34daa3"
      },
      "execution_count": 2,
      "outputs": [
        {
          "output_type": "execute_result",
          "data": {
            "text/plain": [
              "Text(0, 0.5, 'y')"
            ]
          },
          "metadata": {},
          "execution_count": 2
        },
        {
          "output_type": "display_data",
          "data": {
            "text/plain": [
              "<Figure size 432x288 with 1 Axes>"
            ],
            "image/png": "[encoded data removed]"
          },
          "metadata": {
            "needs_background": "light"
          }
        }
      ]
    },
    {
      "cell_type": "code",
      "source": [
        "class LR(nn.Module):\n",
        "\n",
        "    def __init__(self, inputsize, outputsize):\n",
        "        super().__init__()\n",
        "        self.linear = nn.Linear(inputsize, outputsize)\n",
        "\n",
        "    def forward(self,x):\n",
        "        pred = self.linear(x)\n",
        "        return pred\n",
        "\n"
      ],
      "metadata": {
        "id": "H3M2-sPLkCYT"
      },
      "execution_count": 3,
      "outputs": []
    },
    {
      "cell_type": "code",
      "source": [
        "torch.manual_seed(1)\n",
        "model = LR(1,1)\n",
        "print(model)"
      ],
      "metadata": {
        "colab": {
          "base_uri": "https://localhost:8080/"
        },
        "id": "sxIJ5PoHrQtQ",
        "outputId": "8f58ba66-c934-4d62-a714-c3ad090f58ab"
      },
      "execution_count": 4,
      "outputs": [
        {
          "output_type": "stream",
          "name": "stdout",
          "text": [
            "LR(\n",
            "  (linear): Linear(in_features=1, out_features=1, bias=True)\n",
            ")\n"
          ]
        }
      ]
    },
    {
      "cell_type": "code",
      "source": [
        "[w,b] = model.parameters()\n",
        "\n",
        "def get_params():\n",
        "    return (w[0][0].item(),b[0].item())\n",
        "\n",
        "\n",
        "def plot_fit(title = ''):\n",
        "    plt.title = title\n",
        "    w,b = get_params()\n",
        "    x1 = np.array([-30, 30])\n",
        "    y1 = w * x1 + b\n",
        "    plt.plot(x1,y1,'r')\n",
        "    plt.scatter(X,y)\n",
        "    plt.show()\n",
        "\n",
        "plot_fit('initial fit')"
      ],
      "metadata": {
        "colab": {
          "base_uri": "https://localhost:8080/",
          "height": 265
        },
        "id": "RlekclWJrgQg",
        "outputId": "b0ed6fba-d7be-45fa-a196-a80d94d0da7b"
      },
      "execution_count": 5,
      "outputs": [
        {
          "output_type": "display_data",
          "data": {
            "text/plain": [
              "<Figure size 432x288 with 1 Axes>"
            ],
            "image/png": "[encoded data removed]"
          },
          "metadata": {
            "needs_background": "light"
          }
        }
      ]
    },
    {
      "cell_type": "code",
      "source": [
        "criterion = nn.MSELoss()\n",
        "optimizer = torch.optim.SGD(model.parameters(), lr = 0.01)\n",
        "\n",
        "epoches = 100\n",
        "losses = []\n",
        "for i in range(epoches):\n",
        "    y_pred = model.forward(X)\n",
        "    loss = criterion(y_pred,y)\n",
        "    print(f\"for iteration {i} loss was {loss}\")\n",
        "    losses.append(loss.item())\n",
        "    optimizer.zero_grad()\n",
        "    loss.backward()\n",
        "    optimizer.step()\n",
        "\n"
      ],
      "metadata": {
        "colab": {
          "base_uri": "https://localhost:8080/"
        },
        "id": "O_9MkENHsy2J",
        "outputId": "63bc89ba-17fe-4d64-e0a8-43822932b622"
      },
      "execution_count": 6,
      "outputs": [
        {
          "output_type": "stream",
          "name": "stdout",
          "text": [
            "for iteration 0 loss was 30.204444885253906\n",
            "for iteration 1 loss was 28.786544799804688\n",
            "for iteration 2 loss was 27.467796325683594\n",
            "for iteration 3 loss was 26.241270065307617\n",
            "for iteration 4 loss was 25.100496292114258\n",
            "for iteration 5 loss was 24.03948211669922\n",
            "for iteration 6 loss was 23.05266761779785\n",
            "for iteration 7 loss was 22.134838104248047\n",
            "for iteration 8 loss was 21.28115463256836\n",
            "for iteration 9 loss was 20.487150192260742\n",
            "for iteration 10 loss was 19.74863624572754\n",
            "for iteration 11 loss was 19.06173324584961\n",
            "for iteration 12 loss was 18.42283058166504\n",
            "for iteration 13 loss was 17.828577041625977\n",
            "for iteration 14 loss was 17.275840759277344\n",
            "for iteration 15 loss was 16.761716842651367\n",
            "for iteration 16 loss was 16.283512115478516\n",
            "for iteration 17 loss was 15.838689804077148\n",
            "for iteration 18 loss was 15.42495346069336\n",
            "for iteration 19 loss was 15.04011344909668\n",
            "for iteration 20 loss was 14.68213176727295\n",
            "for iteration 21 loss was 14.34914779663086\n",
            "for iteration 22 loss was 14.039405822753906\n",
            "for iteration 23 loss was 13.7512845993042\n",
            "for iteration 24 loss was 13.483271598815918\n",
            "for iteration 25 loss was 13.233964920043945\n",
            "for iteration 26 loss was 13.002053260803223\n",
            "for iteration 27 loss was 12.786320686340332\n",
            "for iteration 28 loss was 12.585636138916016\n",
            "for iteration 29 loss was 12.398948669433594\n",
            "for iteration 30 loss was 12.225281715393066\n",
            "for iteration 31 loss was 12.06372356414795\n",
            "for iteration 32 loss was 11.913426399230957\n",
            "for iteration 33 loss was 11.773603439331055\n",
            "for iteration 34 loss was 11.643527030944824\n",
            "for iteration 35 loss was 11.522512435913086\n",
            "for iteration 36 loss was 11.409928321838379\n",
            "for iteration 37 loss was 11.305187225341797\n",
            "for iteration 38 loss was 11.20773696899414\n",
            "for iteration 39 loss was 11.117074966430664\n",
            "for iteration 40 loss was 11.032723426818848\n",
            "for iteration 41 loss was 10.954239845275879\n",
            "for iteration 42 loss was 10.881219863891602\n",
            "for iteration 43 loss was 10.813276290893555\n",
            "for iteration 44 loss was 10.75006103515625\n",
            "for iteration 45 loss was 10.691240310668945\n",
            "for iteration 46 loss was 10.636507987976074\n",
            "for iteration 47 loss was 10.585579872131348\n",
            "for iteration 48 loss was 10.538188934326172\n",
            "for iteration 49 loss was 10.494091987609863\n",
            "for iteration 50 loss was 10.453054428100586\n",
            "for iteration 51 loss was 10.414867401123047\n",
            "for iteration 52 loss was 10.379329681396484\n",
            "for iteration 53 loss was 10.346256256103516\n",
            "for iteration 54 loss was 10.315478324890137\n",
            "for iteration 55 loss was 10.286831855773926\n",
            "for iteration 56 loss was 10.260171890258789\n",
            "for iteration 57 loss was 10.235360145568848\n",
            "for iteration 58 loss was 10.212267875671387\n",
            "for iteration 59 loss was 10.190771102905273\n",
            "for iteration 60 loss was 10.170763969421387\n",
            "for iteration 61 loss was 10.152140617370605\n",
            "for iteration 62 loss was 10.134803771972656\n",
            "for iteration 63 loss was 10.118667602539062\n",
            "for iteration 64 loss was 10.103644371032715\n",
            "for iteration 65 loss was 10.089658737182617\n",
            "for iteration 66 loss was 10.076639175415039\n",
            "for iteration 67 loss was 10.0645170211792\n",
            "for iteration 68 loss was 10.053232192993164\n",
            "for iteration 69 loss was 10.042723655700684\n",
            "for iteration 70 loss was 10.032940864562988\n",
            "for iteration 71 loss was 10.02383041381836\n",
            "for iteration 72 loss was 10.015345573425293\n",
            "for iteration 73 loss was 10.007445335388184\n",
            "for iteration 74 loss was 10.000088691711426\n",
            "for iteration 75 loss was 9.993237495422363\n",
            "for iteration 76 loss was 9.986855506896973\n",
            "for iteration 77 loss was 9.980912208557129\n",
            "for iteration 78 loss was 9.975375175476074\n",
            "for iteration 79 loss was 9.970218658447266\n",
            "for iteration 80 loss was 9.965414047241211\n",
            "for iteration 81 loss was 9.960939407348633\n",
            "for iteration 82 loss was 9.956769943237305\n",
            "for iteration 83 loss was 9.952884674072266\n",
            "for iteration 84 loss was 9.94926643371582\n",
            "for iteration 85 loss was 9.945893287658691\n",
            "for iteration 86 loss was 9.942749977111816\n",
            "for iteration 87 loss was 9.93982219696045\n",
            "for iteration 88 loss was 9.937092781066895\n",
            "for iteration 89 loss was 9.934547424316406\n",
            "for iteration 90 loss was 9.932177543640137\n",
            "for iteration 91 loss was 9.92996597290039\n",
            "for iteration 92 loss was 9.927905082702637\n",
            "for iteration 93 loss was 9.925983428955078\n",
            "for iteration 94 loss was 9.92419147491455\n",
            "for iteration 95 loss was 9.92252254486084\n",
            "for iteration 96 loss was 9.920963287353516\n",
            "for iteration 97 loss was 9.919511795043945\n",
            "for iteration 98 loss was 9.918156623840332\n",
            "for iteration 99 loss was 9.916892051696777\n"
          ]
        }
      ]
    },
    {
      "cell_type": "code",
      "source": [
        "plt.plot(range(epoches),losses)"
      ],
      "metadata": {
        "colab": {
          "base_uri": "https://localhost:8080/",
          "height": 283
        },
        "id": "Cxo4m3x2txAj",
        "outputId": "1988c053-4e45-4787-bd9d-a0cb78fd61de"
      },
      "execution_count": 7,
      "outputs": [
        {
          "output_type": "execute_result",
          "data": {
            "text/plain": [
              "[<matplotlib.lines.Line2D at 0x7ff85a73a450>]"
            ]
          },
          "metadata": {},
          "execution_count": 7
        },
        {
          "output_type": "display_data",
          "data": {
            "text/plain": [
              "<Figure size 432x288 with 1 Axes>"
            ],
            "image/png": "[encoded data removed]"
          },
          "metadata": {
            "needs_background": "light"
          }
        }
      ]
    },
    {
      "cell_type": "code",
      "source": [
        "plot_fit(\"lr model\")"
      ],
      "metadata": {
        "colab": {
          "base_uri": "https://localhost:8080/",
          "height": 265
        },
        "id": "GOUl2RCUuHfR",
        "outputId": "d688c346-34dc-4960-fd1e-8c1f066b047b"
      },
      "execution_count": 8,
      "outputs": [
        {
          "output_type": "display_data",
          "data": {
            "text/plain": [
              "<Figure size 432x288 with 1 Axes>"
            ],
            "image/png": "[encoded data removed]"
          },
          "metadata": {
            "needs_background": "light"
          }
        }
      ]
    }
  ]
}